{
 "cells": [
  {
   "cell_type": "code",
   "execution_count": 1,
   "id": "58d877be-4ac9-4045-944f-7b38e3dcd94a",
   "metadata": {},
   "outputs": [],
   "source": [
    "import numpy as np"
   ]
  },
  {
   "cell_type": "code",
   "execution_count": 6,
   "id": "d68bb780-43d5-4617-ab66-e975b642f018",
   "metadata": {},
   "outputs": [
    {
     "name": "stdout",
     "output_type": "stream",
     "text": [
      "[1 2 3 4 5 6]\n"
     ]
    }
   ],
   "source": [
    "arr = np.array([1,2,3,4,5,6],int)\n",
    "print(arr)"
   ]
  },
  {
   "cell_type": "code",
   "execution_count": 7,
   "id": "9a9ce600-41bc-436c-b093-34cacd0de4bb",
   "metadata": {},
   "outputs": [
    {
     "name": "stdout",
     "output_type": "stream",
     "text": [
      "[[1 2 3]\n",
      " [4 5 6]]\n"
     ]
    }
   ],
   "source": [
    "arr2 = np.array([[1,2,3],[4,5,6]])\n",
    "print(arr2)"
   ]
  },
  {
   "cell_type": "code",
   "execution_count": 8,
   "id": "f3d0d5ca-4e03-4d7d-8c59-acf17c2b2d96",
   "metadata": {},
   "outputs": [
    {
     "name": "stdout",
     "output_type": "stream",
     "text": [
      "[[[1 2 3]\n",
      "  [4 5 6]]\n",
      "\n",
      " [[1 2 4]\n",
      "  [3 4 5]]]\n"
     ]
    }
   ],
   "source": [
    "arr3 = np.array([[[1,2,3],[4,5,6]],[[1,2,4],[3,4,5]]])\n",
    "print(arr3)"
   ]
  },
  {
   "cell_type": "code",
   "execution_count": 9,
   "id": "4d3c0671-4d70-4ba8-8f4e-c2e15c741983",
   "metadata": {},
   "outputs": [
    {
     "name": "stdout",
     "output_type": "stream",
     "text": [
      "1\n",
      "2\n",
      "3\n"
     ]
    }
   ],
   "source": [
    "print(arr.ndim)\n",
    "print(arr2.ndim)\n",
    "print(arr3.ndim)"
   ]
  },
  {
   "cell_type": "code",
   "execution_count": 11,
   "id": "cff5e364-b5d4-4247-9b96-367753e5307f",
   "metadata": {},
   "outputs": [
    {
     "data": {
      "text/plain": [
       "2"
      ]
     },
     "execution_count": 11,
     "metadata": {},
     "output_type": "execute_result"
    }
   ],
   "source": [
    "arr[1]"
   ]
  },
  {
   "cell_type": "code",
   "execution_count": 16,
   "id": "226bc294-b7e4-4fc7-b02d-55413682f190",
   "metadata": {},
   "outputs": [
    {
     "name": "stdout",
     "output_type": "stream",
     "text": [
      "[[ 1  2 12]\n",
      " [ 4  5  6]]\n",
      "[[ 1  2 12]\n",
      " [ 4  5  6]]\n"
     ]
    }
   ],
   "source": [
    "arr2[0,2] = 12\n",
    "print(arr2)"
   ]
  },
  {
   "cell_type": "code",
   "execution_count": 21,
   "id": "61d3e5d6-99ea-4ac2-a424-2e6400621bcc",
   "metadata": {},
   "outputs": [
    {
     "name": "stdout",
     "output_type": "stream",
     "text": [
      "[[0. 0. 0.]\n",
      " [0. 0. 0.]\n",
      " [0. 0. 0.]]\n"
     ]
    }
   ],
   "source": [
    "arr0 = np.zeros((3,3))\n",
    "print(arr0)"
   ]
  },
  {
   "cell_type": "code",
   "execution_count": 24,
   "id": "0444c3f9-2342-4882-b251-0e7f9bd934a8",
   "metadata": {},
   "outputs": [
    {
     "name": "stdout",
     "output_type": "stream",
     "text": [
      "[[1. 1.]\n",
      " [1. 1.]]\n"
     ]
    }
   ],
   "source": [
    "ar1 = np.ones((2,2))\n",
    "print(ar1)"
   ]
  },
  {
   "cell_type": "code",
   "execution_count": 28,
   "id": "92ca546e-db02-49c6-8857-027b8ab40373",
   "metadata": {},
   "outputs": [
    {
     "data": {
      "text/plain": [
       "array([9, 9, 3, 2, 6, 8, 2, 5, 6, 4, 6])"
      ]
     },
     "execution_count": 28,
     "metadata": {},
     "output_type": "execute_result"
    }
   ],
   "source": [
    "arr = np.random.randint(1,10,size = 11)\n",
    "arr"
   ]
  },
  {
   "cell_type": "code",
   "execution_count": 30,
   "id": "8a444c33-0a08-4e9a-844a-adc6868d8afd",
   "metadata": {},
   "outputs": [
    {
     "data": {
      "text/plain": [
       "array([[0.61894188, 0.52293101, 0.53114199],\n",
       "       [0.98221298, 0.43754612, 0.77452484],\n",
       "       [0.08874301, 0.90814263, 0.19173576]])"
      ]
     },
     "execution_count": 30,
     "metadata": {},
     "output_type": "execute_result"
    }
   ],
   "source": [
    "arr = np.random.rand(3,3)\n",
    "arr"
   ]
  },
  {
   "cell_type": "code",
   "execution_count": 35,
   "id": "0d48114d-19c4-4151-ad18-9b1abf400c72",
   "metadata": {},
   "outputs": [
    {
     "name": "stdout",
     "output_type": "stream",
     "text": [
      "B\n",
      "C\n",
      "C\n",
      "A\n",
      "A\n",
      "B\n",
      "C\n",
      "B\n",
      "A\n",
      "A\n"
     ]
    }
   ],
   "source": [
    "arr = np.random.choice(['A','B','C'], size = 10)\n",
    "for i in arr:\n",
    "    print(i)"
   ]
  },
  {
   "cell_type": "code",
   "execution_count": 36,
   "id": "c8a88599-7936-4388-96c5-c2a1574d90db",
   "metadata": {},
   "outputs": [
    {
     "data": {
      "text/plain": [
       "array([2, 6, 3, 9, 3, 2, 6, 9, 3, 7])"
      ]
     },
     "execution_count": 36,
     "metadata": {},
     "output_type": "execute_result"
    }
   ],
   "source": [
    "arr = np.random.randint(1,10,size = 10)\n",
    "arr"
   ]
  },
  {
   "cell_type": "code",
   "execution_count": 37,
   "id": "53378d50-a2ee-48cd-833d-609fe4f20531",
   "metadata": {},
   "outputs": [
    {
     "data": {
      "text/plain": [
       "5.0"
      ]
     },
     "execution_count": 37,
     "metadata": {},
     "output_type": "execute_result"
    }
   ],
   "source": [
    "arr.mean()"
   ]
  },
  {
   "cell_type": "code",
   "execution_count": 40,
   "id": "4669e84f-db14-4018-a5be-6e35b3b09e11",
   "metadata": {},
   "outputs": [
    {
     "data": {
      "text/plain": [
       "50"
      ]
     },
     "execution_count": 40,
     "metadata": {},
     "output_type": "execute_result"
    }
   ],
   "source": [
    "arr.sum()"
   ]
  },
  {
   "cell_type": "code",
   "execution_count": 41,
   "id": "c8d3b0c4-adfe-4143-a8f9-c13029ecfdd3",
   "metadata": {},
   "outputs": [
    {
     "data": {
      "text/plain": [
       "9"
      ]
     },
     "execution_count": 41,
     "metadata": {},
     "output_type": "execute_result"
    }
   ],
   "source": [
    "arr.max()"
   ]
  },
  {
   "cell_type": "code",
   "execution_count": 42,
   "id": "e7a8f3e3-4e17-479a-b3ea-1b5256c957a2",
   "metadata": {},
   "outputs": [
    {
     "data": {
      "text/plain": [
       "2"
      ]
     },
     "execution_count": 42,
     "metadata": {},
     "output_type": "execute_result"
    }
   ],
   "source": [
    "arr.min()"
   ]
  },
  {
   "cell_type": "code",
   "execution_count": 43,
   "id": "66f292fa-2bc7-4f1a-9105-bed8ebc24c77",
   "metadata": {},
   "outputs": [
    {
     "data": {
      "text/plain": [
       "0"
      ]
     },
     "execution_count": 43,
     "metadata": {},
     "output_type": "execute_result"
    }
   ],
   "source": [
    "arr.argmin()"
   ]
  },
  {
   "cell_type": "code",
   "execution_count": 45,
   "id": "a51ec304-e158-4ac3-a33f-31e6206b89ed",
   "metadata": {},
   "outputs": [
    {
     "data": {
      "text/plain": [
       "3"
      ]
     },
     "execution_count": 45,
     "metadata": {},
     "output_type": "execute_result"
    }
   ],
   "source": [
    "arr.argmax()"
   ]
  },
  {
   "cell_type": "code",
   "execution_count": 46,
   "id": "7c4a64b3-501c-493a-8559-0630e296f2a3",
   "metadata": {},
   "outputs": [],
   "source": [
    "arr[0] = 10"
   ]
  },
  {
   "cell_type": "code",
   "execution_count": 47,
   "id": "3ad8742d-01e5-4ea7-9ab6-cf9cb8b550b4",
   "metadata": {},
   "outputs": [
    {
     "data": {
      "text/plain": [
       "5"
      ]
     },
     "execution_count": 47,
     "metadata": {},
     "output_type": "execute_result"
    }
   ],
   "source": [
    "arr.argmin()"
   ]
  },
  {
   "cell_type": "code",
   "execution_count": 50,
   "id": "ebd48efe-4004-4335-97b9-a9bf6ee75307",
   "metadata": {},
   "outputs": [
    {
     "name": "stdout",
     "output_type": "stream",
     "text": [
      "[1 2 3]\n",
      "[2 3 4]\n"
     ]
    }
   ],
   "source": [
    "arr = np.array([[1,2,3],[2,3,4]])\n",
    "for i in arr:\n",
    "    print(i)"
   ]
  },
  {
   "cell_type": "code",
   "execution_count": 51,
   "id": "7f4ac0a9-3e79-4e29-8c69-4944604462b1",
   "metadata": {},
   "outputs": [
    {
     "name": "stdin",
     "output_type": "stream",
     "text": [
      " 12 15 23\n"
     ]
    }
   ],
   "source": [
    "arr = np.array(list(map(int , input().split())))"
   ]
  },
  {
   "cell_type": "code",
   "execution_count": 52,
   "id": "f05ca763-d2ff-4c58-9069-5dcae485bc59",
   "metadata": {},
   "outputs": [
    {
     "data": {
      "text/plain": [
       "array([12, 15, 23])"
      ]
     },
     "execution_count": 52,
     "metadata": {},
     "output_type": "execute_result"
    }
   ],
   "source": [
    "arr"
   ]
  },
  {
   "cell_type": "code",
   "execution_count": 58,
   "id": "3e92b6da-efbe-4941-a487-6c9330bcfa4c",
   "metadata": {},
   "outputs": [
    {
     "name": "stdin",
     "output_type": "stream",
     "text": [
      " 5\n",
      " 1 2 3 1\n",
      " 1 2 5 6\n",
      " 1 4 7 8\n",
      " 2 5 6 9\n",
      "  3 5 6 9\n"
     ]
    }
   ],
   "source": [
    "row = int(input())\n",
    "arr = np.array([list(map(int, input().split())) for i in range(row)])"
   ]
  },
  {
   "cell_type": "code",
   "execution_count": 59,
   "id": "4c44ca8b-0c49-4ac2-b524-74e8750ee10b",
   "metadata": {},
   "outputs": [
    {
     "data": {
      "text/plain": [
       "array([[1, 2, 3, 1],\n",
       "       [1, 2, 5, 6],\n",
       "       [1, 4, 7, 8],\n",
       "       [2, 5, 6, 9],\n",
       "       [3, 5, 6, 9]])"
      ]
     },
     "execution_count": 59,
     "metadata": {},
     "output_type": "execute_result"
    }
   ],
   "source": [
    "arr"
   ]
  },
  {
   "cell_type": "code",
   "execution_count": 61,
   "id": "460a7965-436d-4041-bb26-1ae5014d166a",
   "metadata": {},
   "outputs": [],
   "source": [
    "arr = np.empty((3,2))"
   ]
  },
  {
   "cell_type": "code",
   "execution_count": 62,
   "id": "901bdae5-2052-4dcb-bd59-b6583b9d1def",
   "metadata": {},
   "outputs": [
    {
     "data": {
      "text/plain": [
       "array([[6.23042070e-307, 4.67296746e-307],\n",
       "       [1.69121096e-306, 1.06810200e-306],\n",
       "       [1.89146896e-307, 7.56571288e-307]])"
      ]
     },
     "execution_count": 62,
     "metadata": {},
     "output_type": "execute_result"
    }
   ],
   "source": [
    "arr"
   ]
  },
  {
   "cell_type": "code",
   "execution_count": 64,
   "id": "1b264710-d315-4157-b0dd-d731b6879b80",
   "metadata": {},
   "outputs": [
    {
     "data": {
      "text/plain": [
       "array([1, 2, 3, 4, 5, 6, 7, 8, 9])"
      ]
     },
     "execution_count": 64,
     "metadata": {},
     "output_type": "execute_result"
    }
   ],
   "source": [
    "val = np.arange(1,10)\n",
    "val"
   ]
  },
  {
   "cell_type": "code",
   "execution_count": 65,
   "id": "44f25bad-46a0-4b3a-822e-7a106e8e8cf7",
   "metadata": {},
   "outputs": [
    {
     "data": {
      "text/plain": [
       "array([ 1.  ,  3.25,  5.5 ,  7.75, 10.  ])"
      ]
     },
     "execution_count": 65,
     "metadata": {},
     "output_type": "execute_result"
    }
   ],
   "source": [
    "val = np.linspace(1,10,5)\n",
    "val"
   ]
  },
  {
   "cell_type": "code",
   "execution_count": 70,
   "id": "5d128080-417a-480e-a5fd-c0a7c4bd3d4a",
   "metadata": {},
   "outputs": [
    {
     "name": "stdin",
     "output_type": "stream",
     "text": [
      " 9\n",
      " 1\n",
      " 2\n",
      " 3\n",
      " 4\n",
      " 5\n",
      " 6\n",
      " 7\n",
      " 8\n",
      " 9\n"
     ]
    },
    {
     "data": {
      "text/plain": [
       "array([[1, 2, 3],\n",
       "       [4, 5, 6],\n",
       "       [7, 8, 9]])"
      ]
     },
     "execution_count": 70,
     "metadata": {},
     "output_type": "execute_result"
    }
   ],
   "source": [
    "row = int(input())\n",
    "arr = np.array([list(map(int, input().split())) for i in range(row)])\n",
    "arr = arr.reshape(3,3)\n",
    "arr"
   ]
  },
  {
   "cell_type": "code",
   "execution_count": 71,
   "id": "889cff84-86ff-4a0d-ae7b-d445d1b9de21",
   "metadata": {},
   "outputs": [
    {
     "data": {
      "text/plain": [
       "array([[1, 4, 7],\n",
       "       [2, 5, 8],\n",
       "       [3, 6, 9]])"
      ]
     },
     "execution_count": 71,
     "metadata": {},
     "output_type": "execute_result"
    }
   ],
   "source": [
    "arr.T"
   ]
  },
  {
   "cell_type": "code",
   "execution_count": 78,
   "id": "81b6355c-a8f4-4c94-aebc-b51eb5a88229",
   "metadata": {},
   "outputs": [
    {
     "data": {
      "text/plain": [
       "array([[1., 0., 0.],\n",
       "       [0., 1., 0.],\n",
       "       [0., 0., 1.]])"
      ]
     },
     "execution_count": 78,
     "metadata": {},
     "output_type": "execute_result"
    }
   ],
   "source": [
    "np.ravel(arr)\n",
    "dup = np.eye(3)\n",
    "dup"
   ]
  },
  {
   "cell_type": "code",
   "execution_count": 89,
   "id": "2c59cac1-0a12-4d3d-a017-12ba4328f54e",
   "metadata": {},
   "outputs": [],
   "source": [
    "import random"
   ]
  },
  {
   "cell_type": "code",
   "execution_count": 106,
   "id": "299fbabb-e5c8-40e3-839b-d8ecd2cc2b73",
   "metadata": {},
   "outputs": [
    {
     "data": {
      "text/plain": [
       "array([[1, 1, 1],\n",
       "       [1, 1, 1],\n",
       "       [1, 1, 1]])"
      ]
     },
     "execution_count": 106,
     "metadata": {},
     "output_type": "execute_result"
    }
   ],
   "source": [
    "val = np.full((3,3), fill_value = random.choice([1,2,4]))\n",
    "val"
   ]
  },
  {
   "cell_type": "code",
   "execution_count": 116,
   "id": "3417c659-c58f-447d-aac3-e45756c806d2",
   "metadata": {},
   "outputs": [],
   "source": [
    "arr1 = np.array([1,2,4])\n",
    "arr2 = np.arange(1,4)"
   ]
  },
  {
   "cell_type": "code",
   "execution_count": null,
   "id": "3352bf77-7fa8-4f74-8d88-87020db1d55a",
   "metadata": {},
   "outputs": [],
   "source": [
    "arr1 = np.concatenate((arr1,arr2))\n",
    "arr1"
   ]
  },
  {
   "cell_type": "code",
   "execution_count": 117,
   "id": "f4d60ec8-43f5-44fe-ba65-6e30b36a1ad1",
   "metadata": {},
   "outputs": [
    {
     "data": {
      "text/plain": [
       "17"
      ]
     },
     "execution_count": 117,
     "metadata": {},
     "output_type": "execute_result"
    }
   ],
   "source": [
    "arr1.dot(arr2)"
   ]
  },
  {
   "cell_type": "code",
   "execution_count": 121,
   "id": "919e9190-1878-4ace-b0df-0f2bc889196a",
   "metadata": {},
   "outputs": [
    {
     "data": {
      "text/plain": [
       "array([ 1,  4, 64])"
      ]
     },
     "execution_count": 121,
     "metadata": {},
     "output_type": "execute_result"
    }
   ],
   "source": [
    "val = np.power(arr1,arr2)\n",
    "val"
   ]
  },
  {
   "cell_type": "code",
   "execution_count": 125,
   "id": "fa851290-cedc-462c-8dd8-b19536a3941a",
   "metadata": {},
   "outputs": [
    {
     "data": {
      "text/plain": [
       "(9,)"
      ]
     },
     "execution_count": 125,
     "metadata": {},
     "output_type": "execute_result"
    }
   ],
   "source": [
    "arr = np.arange(1,10)\n",
    "arr.shape"
   ]
  },
  {
   "cell_type": "code",
   "execution_count": 127,
   "id": "802b469d-27a0-412a-9d3a-d66b0396e4b5",
   "metadata": {},
   "outputs": [
    {
     "data": {
      "text/plain": [
       "array([1, 2, 3, 4, 5, 6, 7, 8, 9])"
      ]
     },
     "execution_count": 127,
     "metadata": {},
     "output_type": "execute_result"
    }
   ],
   "source": [
    "val = arr.copy()\n",
    "val"
   ]
  },
  {
   "cell_type": "code",
   "execution_count": 137,
   "id": "cddee633-42e8-418d-8660-a7a07a7788c5",
   "metadata": {},
   "outputs": [
    {
     "data": {
      "text/plain": [
       "numpy.int32"
      ]
     },
     "execution_count": 137,
     "metadata": {},
     "output_type": "execute_result"
    }
   ],
   "source": [
    "arr = arr.astype(int)\n",
    "type(arr[0])"
   ]
  },
  {
   "cell_type": "code",
   "execution_count": 140,
   "id": "1c1638f9-ae43-4a0b-b79b-f40d39cdc677",
   "metadata": {},
   "outputs": [
    {
     "data": {
      "text/plain": [
       "array([1, 2, 3, 4])"
      ]
     },
     "execution_count": 140,
     "metadata": {},
     "output_type": "execute_result"
    }
   ],
   "source": [
    "arr = np.array([1,2,2,2,3,4,4,4])\n",
    "val = np.unique(arr)\n",
    "val"
   ]
  }
 ],
 "metadata": {
  "kernelspec": {
   "display_name": "Python 3 (ipykernel)",
   "language": "python",
   "name": "python3"
  },
  "language_info": {
   "codemirror_mode": {
    "name": "ipython",
    "version": 3
   },
   "file_extension": ".py",
   "mimetype": "text/x-python",
   "name": "python",
   "nbconvert_exporter": "python",
   "pygments_lexer": "ipython3",
   "version": "3.12.6"
  }
 },
 "nbformat": 4,
 "nbformat_minor": 5
}
